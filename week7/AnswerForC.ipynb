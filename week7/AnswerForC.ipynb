{
 "cells": [
  {
   "cell_type": "code",
   "execution_count": 2,
   "metadata": {},
   "outputs": [
    {
     "name": "stdout",
     "output_type": "stream",
     "text": [
      "                  county  TotalCasesPer100K  TotalDeathsPer100K  NewPoverty\n",
      "2903  Washington, Oregon      377110.358679          3925.21208   10.321202\n",
      "               county  TotalCasesPer100K  TotalDeathsPer100K  NewPoverty\n",
      "1737  Malheur, Oregon       1.491187e+06        25541.566681   24.298225\n",
      "                 county  TotalCasesPer100K  TotalDeathsPer100K  NewPoverty\n",
      "1677  Loudoun, Virginia       666505.58792          9563.27191    3.689598\n",
      "                county  TotalCasesPer100K  TotalDeathsPer100K  NewPoverty\n",
      "1176  Harlan, Kentucky       747727.60273        14498.330187   35.669482\n"
     ]
    }
   ],
   "source": [
    "import pandas as pd\n",
    "\n",
    "mergedttable = pd.read_csv('Merged_Data_C.csv')\n",
    "searchIndex = ['Washington, Oregon', 'Malheur, Oregon', 'Loudoun, Virginia','Harlan, Kentucky']\n",
    "res = []\n",
    "for county in searchIndex:\n",
    "    # dfA.loc[(dfA['County'] == county)])\n",
    "    print(mergedttable.loc[(mergedttable['county'] == county)])"
   ]
  }
 ],
 "metadata": {
  "interpreter": {
   "hash": "b0fa6594d8f4cbf19f97940f81e996739fb7646882a419484c72d19e05852a7e"
  },
  "kernelspec": {
   "display_name": "Python 3.9.12 64-bit",
   "language": "python",
   "name": "python3"
  },
  "language_info": {
   "codemirror_mode": {
    "name": "ipython",
    "version": 3
   },
   "file_extension": ".py",
   "mimetype": "text/x-python",
   "name": "python",
   "nbconvert_exporter": "python",
   "pygments_lexer": "ipython3",
   "version": "3.9.12"
  },
  "orig_nbformat": 4
 },
 "nbformat": 4,
 "nbformat_minor": 2
}
