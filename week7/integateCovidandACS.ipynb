{
 "cells": [
  {
   "cell_type": "code",
   "execution_count": 34,
   "metadata": {},
   "outputs": [],
   "source": [
    "import pandas as pd\n",
    "\n",
    "covid = pd.read_csv('merged_covid_data.csv')\n",
    "acs = pd.read_csv('merged_data.csv')\n",
    "acs['county'] = acs['county'].str.replace(' County', '')\n",
    "covid = covid.groupby(['county']).agg({'cases': 'sum', 'deaths': 'sum'})\n",
    "megedtable = pd.merge(acs, covid, on='county')\n",
    "megedtable['TotalCasesPer100K'] = megedtable.apply(lambda x: x['cases']/(x['TotalPop']/100000), axis=1)\n",
    "megedtable['TotalDeathsPer100K'] = megedtable.apply(lambda x: x['deaths']/(x['TotalPop']/100000), axis=1)\n",
    "megedtable = megedtable[['county','TotalCasesPer100K','TotalDeathsPer100K','NewPoverty']]\n",
    "megedtable.to_csv('Merged_Data_C.csv', index=False)\n",
    "# searchIndex = ['Washington, Oregon', 'Malheur, Oregon', 'Loudoun, Virginia','Harlan, Kentucky']\n"
   ]
  }
 ],
 "metadata": {
  "interpreter": {
   "hash": "b0fa6594d8f4cbf19f97940f81e996739fb7646882a419484c72d19e05852a7e"
  },
  "kernelspec": {
   "display_name": "Python 3.9.12 64-bit",
   "language": "python",
   "name": "python3"
  },
  "language_info": {
   "codemirror_mode": {
    "name": "ipython",
    "version": 3
   },
   "file_extension": ".py",
   "mimetype": "text/x-python",
   "name": "python",
   "nbconvert_exporter": "python",
   "pygments_lexer": "ipython3",
   "version": "3.9.12"
  },
  "orig_nbformat": 4
 },
 "nbformat": 4,
 "nbformat_minor": 2
}
