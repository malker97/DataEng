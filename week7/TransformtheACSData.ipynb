{
 "cells": [
  {
   "cell_type": "code",
   "execution_count": 5,
   "metadata": {},
   "outputs": [],
   "source": [
    "import pandas as pd\n",
    "df = pd.read_csv('acs2017_census_tract_data.csv')\n",
    "df['County'] = df['County'] +', ' +df['State']\n",
    "df = df[['TractId','County', 'TotalPop', 'IncomePerCap','PorPop']]\n",
    "df = df.groupby(['County']).agg({'TotalPop':'sum','PorPop': 'sum','IncomePerCap':'mean'})\n",
    "df['NewPoverty'] = df.apply(lambda x: x['PorPop']/x['TotalPop'], axis=1)\n",
    "df.to_csv('merged_data.csv')\n",
    "# searchIndex = ['Loudoun County, Virginia', 'Washington County, Oregon', 'Harlan County, Kentucky', 'Malheur County, Oregon']\n",
    "# df.to_csv('merged_data.csv')\n",
    "# for county in searchIndex:\n",
    "#     print(df.loc[(df['County'] == county)])\n",
    "# # df.loc[(df['County'] == 'Autauga County, Alabama')]\n"
   ]
  }
 ],
 "metadata": {
  "interpreter": {
   "hash": "b0fa6594d8f4cbf19f97940f81e996739fb7646882a419484c72d19e05852a7e"
  },
  "kernelspec": {
   "display_name": "Python 3.9.12 64-bit",
   "language": "python",
   "name": "python3"
  },
  "language_info": {
   "codemirror_mode": {
    "name": "ipython",
    "version": 3
   },
   "file_extension": ".py",
   "mimetype": "text/x-python",
   "name": "python",
   "nbconvert_exporter": "python",
   "pygments_lexer": "ipython3",
   "version": "3.9.12"
  },
  "orig_nbformat": 4
 },
 "nbformat": 4,
 "nbformat_minor": 2
}
