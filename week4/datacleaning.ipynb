{
 "cells": [
  {
   "cell_type": "code",
   "execution_count": 3,
   "metadata": {},
   "outputs": [
    {
     "name": "stdout",
     "output_type": "stream",
     "text": [
      "269\n"
     ]
    }
   ],
   "source": [
    "import pandas as pd\n",
    "from datetime import datetime\n",
    "# existence assertions. Example: “Every crash occurred on a date”, \n",
    "# limit assertions. Example: “Every crash occurred during year 2019”\n",
    "# intra-record assertions. Example: “Every crash has a unique ID”, \"Every Crash ID exists.\"\n",
    "# Create 2+ inter-record check assertions. Example: “Every vehicle listed in the crash data was part of a known crash”\n",
    "# Create 2+ summary assertions. Example: “There were thousands of crashes but not millions”, “There were thousands of CAR crashed but not millions”\n",
    "# Create 2+ statistical distribution assertions. Example: “crashes are evenly/uniformly distributed throughout the months of the year.”\n",
    "# “crashes are evenly/uniformly distributed throughout the WEEKDAY of the year.”\n",
    "df = pd.read_csv('Hwy26.csv')\n",
    "df.sort_values(by=['Crash ID'])\n",
    "# “Every crash occurred on a date”,\n",
    "dates = set()\n",
    "for index, row in df.iterrows():\n",
    "    if pd.isnull(row['Crash Year']) == False and row['Crash Year'] != 'nan':\n",
    "        date = datetime(int(row['Crash Year']), int(row['Crash Month']), int(row['Crash Day']))\n",
    "        dates.add(date)\n",
    "print(len(dates))\n",
    "# cuz the length of dates in bigger than 1, thats meaning Every crash can NOT occurred on a date"
   ]
  },
  {
   "cell_type": "code",
   "execution_count": 7,
   "metadata": {},
   "outputs": [
    {
     "name": "stdout",
     "output_type": "stream",
     "text": [
      "[2019.0]\n"
     ]
    }
   ],
   "source": [
    "# “Every crash occurred during year 2019”\n",
    "yearSet = list(set(df['Crash Year'].tolist()))\n",
    "yearSet = [x for x in yearSet if pd.isnull(x) == False and x != 'nan']\n",
    "print(yearSet)"
   ]
  },
  {
   "cell_type": "code",
   "execution_count": 8,
   "metadata": {},
   "outputs": [
    {
     "name": "stdout",
     "output_type": "stream",
     "text": [
      "2739\n",
      "508\n"
     ]
    }
   ],
   "source": [
    "# “Every crash has a unique ID”, \"Every Crash ID exists.\"\n",
    "crashIDs = list(df['Crash ID'].tolist())\n",
    "crashIDs = [x for x in crashIDs if pd.isnull(x) == False and x != 'nan']\n",
    "# this is total number of crashID\n",
    "print(len(crashIDs))\n",
    "crashIDs = set(crashIDs)\n",
    "# this is crashID w/o repeats\n",
    "print(len(crashIDs))\n",
    "# So thats meaning Every crash DONT has a unique ID"
   ]
  },
  {
   "cell_type": "code",
   "execution_count": 11,
   "metadata": {},
   "outputs": [
    {
     "name": "stdout",
     "output_type": "stream",
     "text": [
      "{2.0, 4.0, 5.0}\n"
     ]
    }
   ],
   "source": [
    "# “Every vehicle listed in the crash data was part of a known crash”\n",
    "# Crash Type\n",
    "crashTypes = list(df['Crash Type'].tolist())\n",
    "crashTypes = [x for x in crashTypes if pd.isnull(x) == False and x != 'nan']\n",
    "print(set(crashTypes))"
   ]
  },
  {
   "cell_type": "code",
   "execution_count": 12,
   "metadata": {},
   "outputs": [
    {
     "name": "stdout",
     "output_type": "stream",
     "text": [
      "508\n"
     ]
    }
   ],
   "source": [
    "# “There were thousands of crashes but not millions”\n",
    "print(len(crashIDs))"
   ]
  },
  {
   "cell_type": "markdown",
   "metadata": {},
   "source": [
    "Only 500+ events"
   ]
  },
  {
   "cell_type": "code",
   "execution_count": 41,
   "metadata": {},
   "outputs": [
    {
     "name": "stdout",
     "output_type": "stream",
     "text": [
      "2232\n",
      "3447\n"
     ]
    }
   ],
   "source": [
    "# “There were thousands of CAR crashed but not millions”\n",
    "accidentCarsSet = set()\n",
    "accidentCarsList = []\n",
    "for index, row in df.iterrows():\n",
    "    if pd.isnull(row['Vehicle ID']) == False:\n",
    "        accidentCarsSet.add(int(row['Vehicle ID']))\n",
    "        accidentCarsList.append(int(row['Vehicle ID']))\n",
    "    if pd.isnull(row['Participant ID']) == False:\n",
    "        accidentCarsSet.add(int(row['Participant ID']))\n",
    "        accidentCarsList.append(int(row['Participant ID']))\n",
    "print(len(accidentCarsSet))\n",
    "print(len(accidentCarsList))"
   ]
  },
  {
   "cell_type": "code",
   "execution_count": 42,
   "metadata": {},
   "outputs": [
    {
     "name": "stdout",
     "output_type": "stream",
     "text": [
      "{1: 58, 2: 46, 3: 57, 4: 53, 5: 41, 6: 36, 7: 37, 8: 33, 9: 34, 10: 36, 11: 35, 12: 44}\n"
     ]
    }
   ],
   "source": [
    "# “crashes are evenly/uniformly distributed throughout the months of the year.”\n",
    "monthDict = {1 : 2, 2: 0, 3: 0, 4:0 ,5 :0, 6 : 0, 7:0, 8:0, 9:0, 10:0, 11:0, 12:0}\n",
    "crashMonth = list(df['Crash Month'].tolist())\n",
    "crashMonth = [x for x in crashMonth if pd.isnull(x) == False and x != 'nan']\n",
    "for month in crashMonth:\n",
    "    monthDict[int(month)] += 1\n",
    "print(monthDict)"
   ]
  },
  {
   "cell_type": "code",
   "execution_count": 43,
   "metadata": {},
   "outputs": [
    {
     "name": "stdout",
     "output_type": "stream",
     "text": [
      "{1: 62, 2: 71, 3: 75, 4: 74, 5: 68, 6: 77, 7: 83}\n"
     ]
    }
   ],
   "source": [
    "# “crashes are evenly/uniformly distributed throughout the WEEKDAY of the year.”\n",
    "# Week Day Code\n",
    "WeekDayDict = {1 : 2, 2: 0, 3: 0, 4:0 ,5 :0, 6 : 0, 7:0}\n",
    "WeekDay = list(df['Week Day Code'].tolist())\n",
    "WeekDay = [x for x in WeekDay if pd.isnull(x) == False and x != 'nan']\n",
    "for day in WeekDay:\n",
    "    WeekDayDict[int(day)] += 1\n",
    "print(WeekDayDict)"
   ]
  }
 ],
 "metadata": {
  "interpreter": {
   "hash": "b0fa6594d8f4cbf19f97940f81e996739fb7646882a419484c72d19e05852a7e"
  },
  "kernelspec": {
   "display_name": "Python 3.9.12 64-bit",
   "language": "python",
   "name": "python3"
  },
  "language_info": {
   "codemirror_mode": {
    "name": "ipython",
    "version": 3
   },
   "file_extension": ".py",
   "mimetype": "text/x-python",
   "name": "python",
   "nbconvert_exporter": "python",
   "pygments_lexer": "ipython3",
   "version": "3.9.12"
  },
  "orig_nbformat": 4
 },
 "nbformat": 4,
 "nbformat_minor": 2
}
